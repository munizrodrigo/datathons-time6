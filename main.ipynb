{
 "cells": [
  {
   "cell_type": "code",
   "execution_count": 1,
   "id": "f3694d08-e0a0-41c0-a523-5e29869a5fda",
   "metadata": {},
   "outputs": [],
   "source": [
    "import pandas as pd\n",
    "import numpy as np\n",
    "import scipy as sp\n",
    "import requests\n",
    "import re\n",
    "import plotly.express as px\n",
    "import matplotlib.pyplot as plt\n",
    "from ipywidgets import interactive, fixed\n",
    "from IPython.display import display, IFrame\n",
    "from bs4 import BeautifulSoup\n",
    "from pathlib import Path\n",
    "from io import StringIO\n",
    "from warnings import simplefilter\n",
    "from math import ceil, floor"
   ]
  },
  {
   "cell_type": "code",
   "execution_count": 2,
   "id": "f7166dc8",
   "metadata": {},
   "outputs": [],
   "source": [
    "from sysidentpy.model_structure_selection import FROLS\n",
    "from sysidentpy.model_structure_selection import AOLS\n",
    "from sysidentpy.model_structure_selection import MetaMSS\n",
    "from sysidentpy.basis_function import Polynomial\n",
    "from sysidentpy.utils.plotting import plot_results\n",
    "from sysidentpy.neural_network import NARXNN\n",
    "from sysidentpy.metrics import mean_squared_error\n",
    "\n",
    "from sktime.datasets import load_airline\n",
    "from neuralprophet import NeuralProphet\n",
    "from neuralprophet import set_random_seed"
   ]
  },
  {
   "cell_type": "code",
   "execution_count": 3,
   "id": "0c045b0b",
   "metadata": {},
   "outputs": [],
   "source": [
    "simplefilter(\"ignore\", FutureWarning)\n",
    "simplefilter(\"ignore\", UserWarning)\n",
    "simplefilter(\"ignore\", pd.errors.PerformanceWarning)\n",
    "simplefilter(\"ignore\", RuntimeWarning)"
   ]
  },
  {
   "cell_type": "code",
   "execution_count": 4,
   "id": "51ac27a0",
   "metadata": {},
   "outputs": [],
   "source": [
    "# Show many outputs from a cell\n",
    "from IPython.core.interactiveshell import InteractiveShell\n",
    "InteractiveShell.ast_node_interactivity = \"all\""
   ]
  },
  {
   "cell_type": "code",
   "execution_count": 5,
   "id": "a755991f",
   "metadata": {},
   "outputs": [],
   "source": [
    "def get_data_list(data_folder, extension=False, pattern=[\"\\.csv$\", \"\\.xlsx$\"]):\n",
    "    github_url = f\"https://github.com/munizrodrigo/datathons-time6-dados/tree/main/{data_folder}\"\n",
    "    github_url = github_url.replace(\" \", \"%20\")\n",
    "    result = requests.get(github_url)\n",
    "\n",
    "    soup = BeautifulSoup(result.text, \"html.parser\")\n",
    "    files = []\n",
    "    for ftype in pattern:\n",
    "        files.extend(soup.find_all(title=re.compile(ftype)))\n",
    "\n",
    "    filename = []\n",
    "    for file in files:\n",
    "        name = file.extract().get_text()\n",
    "        if not extension:\n",
    "            name = Path(name).resolve().stem\n",
    "        filename.append(name)\n",
    "    \n",
    "    return filename"
   ]
  },
  {
   "cell_type": "code",
   "execution_count": 6,
   "id": "06fa2fe8",
   "metadata": {},
   "outputs": [],
   "source": [
    "def get_temperature(city, show=False):\n",
    "    github_url = f\"https://raw.githubusercontent.com/munizrodrigo/datathons-time6-dados/main/temperatura_sp/{city}.csv\"\n",
    "    github_url = github_url.replace(\" \", \"%20\")\n",
    "    result = requests.get(github_url)\n",
    "    csv_string = StringIO(result.text)\n",
    "    temperature_df = pd.read_csv(csv_string, delimiter=\";\")\n",
    "    temperature_df[\"din_medicao\"] = pd.to_datetime(temperature_df[\"din_medicao\"])\n",
    "    temperature_df = temperature_df[temperature_df[\"id_varmeteo\"] == \"TEM_MAX\"]\n",
    "    temperature_df = temperature_df[[\"din_medicao\", \"val_medicao\"]]\n",
    "    temperature_df = temperature_df[temperature_df[\"val_medicao\"].notnull()]\n",
    "    temperature_df = temperature_df.sort_values(by=\"din_medicao\")\n",
    "    temperature_fig = px.line(temperature_df, x='din_medicao', y=\"val_medicao\")\n",
    "    if show:\n",
    "        display(temperature_df)\n",
    "        display(temperature_fig)\n",
    "    return temperature_df"
   ]
  },
  {
   "cell_type": "code",
   "execution_count": 7,
   "id": "e25e5350-a252-4ecf-b49e-14c36a35cb63",
   "metadata": {},
   "outputs": [
    {
     "data": {
      "application/vnd.jupyter.widget-view+json": {
       "model_id": "10790eb38a5c4264824679a9c710df17",
       "version_major": 2,
       "version_minor": 0
      },
      "text/plain": [
       "interactive(children=(Dropdown(description='city', options=('Ariranha', 'Avare', 'Barra Bonita', 'Barra do Tur…"
      ]
     },
     "metadata": {},
     "output_type": "display_data"
    }
   ],
   "source": [
    "city_temperature = interactive(get_temperature, city=get_data_list(\"temperatura_sp\"), show=fixed(True))\n",
    "\n",
    "display(city_temperature)"
   ]
  },
  {
   "cell_type": "code",
   "execution_count": 8,
   "id": "44e1accd",
   "metadata": {},
   "outputs": [],
   "source": [
    "def get_meteorology(city, variable, show=False):\n",
    "    github_url = f\"https://raw.githubusercontent.com/munizrodrigo/datathons-time6-dados/main/meteorologia_sp/{city}.csv\"\n",
    "    github_url = github_url.replace(\" \", \"%20\")\n",
    "    result = requests.get(github_url)\n",
    "    csv_string = StringIO(result.text)\n",
    "    meteorology_df = pd.read_csv(csv_string, delimiter=\";\")\n",
    "    meteorology_df[\"Hora Medicao\"] = meteorology_df[\"Hora Medicao\"] / 100\n",
    "    meteorology_df[\"Hora Medicao\"] = meteorology_df[\"Data Medicao\"].astype(str) + \" \" + meteorology_df[\"Hora Medicao\"].astype(int).astype(str) + \":00:00\"\n",
    "    meteorology_df[\"Hora Medicao\"] = pd.to_datetime(meteorology_df[\"Hora Medicao\"])\n",
    "    meteorology_df = meteorology_df[[\"Hora Medicao\", \"PRECIPITACAO TOTAL, HORARIO(mm)\", \"UMIDADE REL. MAX. NA HORA ANT. (AUT)(%)\", \"VENTO, VELOCIDADE HORARIA(m/s)\"]]\n",
    "    meteorology_df = meteorology_df[meteorology_df[\"PRECIPITACAO TOTAL, HORARIO(mm)\"].notnull()]\n",
    "    meteorology_df = meteorology_df[meteorology_df[\"UMIDADE REL. MAX. NA HORA ANT. (AUT)(%)\"].notnull()]\n",
    "    meteorology_df = meteorology_df[meteorology_df[\"VENTO, VELOCIDADE HORARIA(m/s)\"].notnull()]\n",
    "    meteorology_df = meteorology_df.sort_values(by=\"Hora Medicao\")\n",
    "    variable_map = {\n",
    "        \"Precipitacao Total\": \"PRECIPITACAO TOTAL, HORARIO(mm)\",\n",
    "        \"Umidade Relativa\": \"UMIDADE REL. MAX. NA HORA ANT. (AUT)(%)\",\n",
    "        \"Velocidade do Vento\": \"VENTO, VELOCIDADE HORARIA(m/s)\"\n",
    "    }\n",
    "    variable_name = variable_map[variable]\n",
    "    meteorology_df = meteorology_df[[\"Hora Medicao\", variable_name]]\n",
    "    meteorology_fig = px.line(meteorology_df, x=\"Hora Medicao\", y=variable_name)\n",
    "    if show:\n",
    "        display(meteorology_df)\n",
    "        display(meteorology_fig)\n",
    "    return meteorology_df"
   ]
  },
  {
   "cell_type": "code",
   "execution_count": 9,
   "id": "737f9ac6",
   "metadata": {},
   "outputs": [
    {
     "data": {
      "application/vnd.jupyter.widget-view+json": {
       "model_id": "bda5717e7b2d4009bcec5d7dfaad9152",
       "version_major": 2,
       "version_minor": 0
      },
      "text/plain": [
       "interactive(children=(Dropdown(description='city', options=('Ariranha', 'Avare', 'Barra Bonita', 'Barra do Tur…"
      ]
     },
     "metadata": {},
     "output_type": "display_data"
    }
   ],
   "source": [
    "city_meteorology = interactive(get_meteorology, city=get_data_list(\"meteorologia_sp\"), variable=[\"Precipitacao Total\", \"Umidade Relativa\", \"Velocidade do Vento\"], show=fixed(True))\n",
    "\n",
    "display(city_meteorology)"
   ]
  },
  {
   "cell_type": "code",
   "execution_count": 10,
   "id": "ba248a88",
   "metadata": {},
   "outputs": [],
   "source": [
    "def get_load(utility, show=False):\n",
    "    github_url = f\"https://raw.githubusercontent.com/munizrodrigo/datathons-time6-dados/main/carga_sp/{utility}.xlsx\"\n",
    "    github_url = github_url.replace(\" \", \"%20\")\n",
    "    load_df = pd.read_excel(github_url)\n",
    "    load_df[\"din_ocorrencia\"] = pd.to_datetime(load_df[\"din_ocorrencia\"])\n",
    "    load_df = load_df[[\"din_ocorrencia\", \"val_itemserieoriginal\"]]\n",
    "    load_df = load_df[load_df[\"val_itemserieoriginal\"].notnull()]\n",
    "    load_df = load_df.sort_values(by=\"din_ocorrencia\")\n",
    "    load_fig = px.line(load_df, x=\"din_ocorrencia\", y=\"val_itemserieoriginal\")\n",
    "    if show:\n",
    "        display(load_df)\n",
    "        display(load_fig)\n",
    "    return load_df"
   ]
  },
  {
   "cell_type": "code",
   "execution_count": 11,
   "id": "b68b32c3",
   "metadata": {},
   "outputs": [
    {
     "data": {
      "application/vnd.jupyter.widget-view+json": {
       "model_id": "fd1ca9bedc044640a45b39078d6f1110",
       "version_major": 2,
       "version_minor": 0
      },
      "text/plain": [
       "interactive(children=(Dropdown(description='utility', options=('cpfl-paulista', 'cpfl-piratininga', 'cpfl-stac…"
      ]
     },
     "metadata": {},
     "output_type": "display_data"
    }
   ],
   "source": [
    "utility_load = interactive(get_load, utility=get_data_list(\"carga_sp\"), show=fixed(True))\n",
    "\n",
    "display(utility_load)"
   ]
  },
  {
   "cell_type": "code",
   "execution_count": 12,
   "id": "1a69de38",
   "metadata": {},
   "outputs": [
    {
     "data": {
      "text/html": [
       "\n",
       "        <iframe\n",
       "            width=\"900\"\n",
       "            height=\"650\"\n",
       "            src=\"https://www.google.com/maps/d/embed?mid=1kPQFq3OwYmW0bN-WeRcOi97vUW0ARPI&ehbc=2E312F\"\n",
       "            frameborder=\"0\"\n",
       "            allowfullscreen\n",
       "            \n",
       "        ></iframe>\n",
       "        "
      ],
      "text/plain": [
       "<IPython.lib.display.IFrame at 0x1c4fa74d5b0>"
      ]
     },
     "execution_count": 12,
     "metadata": {},
     "output_type": "execute_result"
    }
   ],
   "source": [
    "map_url = \"https://www.google.com/maps/d/embed?mid=1kPQFq3OwYmW0bN-WeRcOi97vUW0ARPI&ehbc=2E312F\"\n",
    "IFrame(map_url, width=900, height=650)"
   ]
  },
  {
   "cell_type": "code",
   "execution_count": 13,
   "id": "13483589",
   "metadata": {},
   "outputs": [],
   "source": [
    "def get_all_data_utility(utility, normalize=False, show=False):\n",
    "    cities = get_data_list(f\"distribuidoras_municipios_sp/{utility}\")\n",
    "    \n",
    "    github_url = f\"https://raw.githubusercontent.com/munizrodrigo/datathons-time6-dados/main/distribuidoras_municipios_sp/{utility}/data_temperatura.csv\"\n",
    "    github_url = github_url.replace(\" \", \"%20\")\n",
    "    result = requests.get(github_url)\n",
    "    csv_string = StringIO(result.text)\n",
    "    \n",
    "    utility_df = pd.read_csv(csv_string, delimiter=\";\")\n",
    "    \n",
    "    utility_df[\"data\"] = pd.to_datetime(utility_df[\"data\"])\n",
    "    \n",
    "    num_nan = utility_df.isna().sum() / len(utility_df.index)\n",
    "    \n",
    "    for column in utility_df: # Limitar NaN em 15%\n",
    "        if column != \"data\" and column != \"Carga\":\n",
    "            if num_nan[column] > 0.15:\n",
    "                del utility_df[column]\n",
    "    \n",
    "    utility_df = utility_df.dropna()\n",
    "    \n",
    "    utility_df = utility_df.sort_values(by=\"data\")\n",
    "    \n",
    "    if normalize:\n",
    "        utility_df[utility_df.columns.difference([\"data\"])] = (utility_df[utility_df.columns.difference([\"data\"])]-utility_df[utility_df.columns.difference([\"data\"])].mean())/utility_df[utility_df.columns.difference([\"data\"])].std()\n",
    "    \n",
    "    headers = list(utility_df.columns.values)\n",
    "    headers.remove(\"data\")\n",
    "    \n",
    "    utility_fig = px.line(utility_df, x=\"data\", y=headers)\n",
    "    \n",
    "    if show:\n",
    "        display(utility_df)\n",
    "        display(utility_fig)\n",
    "    \n",
    "    return utility_df"
   ]
  },
  {
   "cell_type": "code",
   "execution_count": 14,
   "id": "e9321606",
   "metadata": {},
   "outputs": [
    {
     "data": {
      "application/vnd.jupyter.widget-view+json": {
       "model_id": "cbf5622769ec419a928f2ab51cd451f0",
       "version_major": 2,
       "version_minor": 0
      },
      "text/plain": [
       "interactive(children=(Dropdown(description='utility', options=('CPFL Paulista', 'CPFL Piratininga', 'CPFL Sant…"
      ]
     },
     "metadata": {},
     "output_type": "display_data"
    }
   ],
   "source": [
    "utility_df = interactive(get_all_data_utility, utility=get_data_list(\"distribuidoras_municipios_sp\", pattern=[\"CPFL\", \"EDP\", \"Elektro\", \"Eletropaulo\", \"Energisa\"]), normalize=True, show=fixed(True))\n",
    "display(utility_df)"
   ]
  },
  {
   "cell_type": "code",
   "execution_count": 15,
   "id": "7591ecf2",
   "metadata": {},
   "outputs": [],
   "source": [
    "loss = mean_squared_error"
   ]
  },
  {
   "cell_type": "code",
   "execution_count": 16,
   "id": "4bd1764e",
   "metadata": {},
   "outputs": [],
   "source": [
    "def predict_frols(utility):\n",
    "    df = get_all_data_utility(utility)\n",
    "    df = df[[\"data\", \"Carga\"]]\n",
    "    df.rename(columns = {\"data\": \"ds\", \"Carga\": \"y\"}, inplace = True)\n",
    "    display(df)\n",
    "\n",
    "    train_percent = 0.8\n",
    "    test_percent = 0.2\n",
    "\n",
    "    train_count = floor(train_percent * len(df.index))\n",
    "    test_count = ceil(test_percent * len(df.index))\n",
    "\n",
    "    df_train, df_val = df.iloc[:train_count, :], df.iloc[train_count:, :]\n",
    "\n",
    "    x_train = df_train[\"ds\"].dt.hour.values.reshape(-1, 1)\n",
    "    x_test = df_val[\"ds\"].dt.hour.values.reshape(-1, 1)\n",
    "\n",
    "    y = df[\"y\"].values.reshape(-1, 1)\n",
    "    y_train = df_train[\"y\"].values.reshape(-1, 1)\n",
    "    y_test = df_val[\"y\"].values.reshape(-1, 1)\n",
    "\n",
    "    basis_function = Polynomial(degree=1)\n",
    "\n",
    "    sysidentpy_frols = FROLS(\n",
    "        order_selection=True,\n",
    "        info_criteria=\"bic\",\n",
    "        estimator=\"least_squares\",\n",
    "        basis_function=basis_function\n",
    "    )\n",
    "\n",
    "    sysidentpy_frols.fit(X=x_train, y=y_train)\n",
    "\n",
    "    x_test = np.concatenate([x_train[-sysidentpy_frols.max_lag:], x_test])\n",
    "    y_test = np.concatenate([y_train[-sysidentpy_frols.max_lag:], y_test])\n",
    "\n",
    "    yhat = sysidentpy_frols.predict(X=x_test, y=y_test, steps_ahead=1)\n",
    "    sysidentpy_loss = loss(pd.Series(y_test.flatten()[sysidentpy_frols.max_lag:]), pd.Series(yhat.flatten()[sysidentpy_frols.max_lag:]))\n",
    "\n",
    "    n_points = 500\n",
    "    plot_results(y=y_test[-n_points:], yhat=yhat[-n_points:], n=n_points, figsize=(18, 8))"
   ]
  },
  {
   "cell_type": "code",
   "execution_count": 17,
   "id": "0e55b7f5",
   "metadata": {},
   "outputs": [
    {
     "data": {
      "application/vnd.jupyter.widget-view+json": {
       "model_id": "e38a7bdd7264451096ba1e4ea964386c",
       "version_major": 2,
       "version_minor": 0
      },
      "text/plain": [
       "interactive(children=(Dropdown(description='utility', options=('CPFL Paulista', 'CPFL Piratininga', 'CPFL Sant…"
      ]
     },
     "metadata": {},
     "output_type": "display_data"
    }
   ],
   "source": [
    "df = interactive(predict_frols, utility=get_data_list(\"distribuidoras_municipios_sp\", pattern=[\"CPFL\", \"EDP\", \"Elektro\", \"Eletropaulo\", \"Energisa\"]), normalize=fixed(False), show=fixed(False))\n",
    "display(df)"
   ]
  },
  {
   "cell_type": "code",
   "execution_count": 18,
   "id": "db33c23e",
   "metadata": {},
   "outputs": [],
   "source": [
    "def predict_metamss(utility):\n",
    "    df = get_all_data_utility(utility)\n",
    "    df = df[[\"data\", \"Carga\"]]\n",
    "    df.rename(columns = {\"data\": \"ds\", \"Carga\": \"y\"}, inplace = True)\n",
    "    display(df)\n",
    "\n",
    "    train_percent = 0.8\n",
    "    test_percent = 0.2\n",
    "\n",
    "    train_count = floor(train_percent * len(df.index))\n",
    "    test_count = ceil(test_percent * len(df.index))\n",
    "\n",
    "    df_train, df_val = df.iloc[:train_count, :], df.iloc[train_count:, :]\n",
    "\n",
    "    x_train = df_train[\"ds\"].dt.hour.values.reshape(-1, 1)\n",
    "    x_test = df_val[\"ds\"].dt.hour.values.reshape(-1, 1)\n",
    "\n",
    "    y = df[\"y\"].values.reshape(-1, 1)\n",
    "    y_train = df_train[\"y\"].values.reshape(-1, 1)\n",
    "    y_test = df_val[\"y\"].values.reshape(-1, 1)\n",
    "\n",
    "    basis_function = Polynomial(degree=1)\n",
    "\n",
    "    sysidentpy_metamss = MetaMSS(\n",
    "        basis_function=basis_function,\n",
    "        estimator=\"least_squares\",\n",
    "        steps_ahead=1,\n",
    "        n_agents=15,\n",
    "        random_state=42\n",
    "    )\n",
    "\n",
    "    sysidentpy_metamss.fit(X_train=x_train, X_test=x_test, y_train=y_train, y_test=y_test)\n",
    "\n",
    "    x_test = np.concatenate([x_train[-sysidentpy_metamss.max_lag:], x_test])\n",
    "    y_test = np.concatenate([y_train[-sysidentpy_metamss.max_lag:], y_test])\n",
    "\n",
    "    yhat = sysidentpy_metamss.predict(X_test=x_test, y_test=y_test, steps_ahead=1)\n",
    "\n",
    "    metamss_loss = loss(\n",
    "        pd.Series(y_test.flatten()[sysidentpy_metamss.max_lag:]),\n",
    "        pd.Series(yhat.flatten()[sysidentpy_metamss.max_lag:])\n",
    "    )\n",
    "    \n",
    "    n_points = 500\n",
    "    plot_results(y=y_test[:n_points], yhat=yhat[:n_points], n=n_points, figsize=(18, 8))"
   ]
  },
  {
   "cell_type": "code",
   "execution_count": 19,
   "id": "a688adf8",
   "metadata": {},
   "outputs": [
    {
     "data": {
      "application/vnd.jupyter.widget-view+json": {
       "model_id": "cd064dd0de6d4e30b90ee4ceafe593e4",
       "version_major": 2,
       "version_minor": 0
      },
      "text/plain": [
       "interactive(children=(Dropdown(description='utility', options=('CPFL Paulista', 'CPFL Piratininga', 'CPFL Sant…"
      ]
     },
     "metadata": {},
     "output_type": "display_data"
    }
   ],
   "source": [
    "df = interactive(predict_metamss, utility=get_data_list(\"distribuidoras_municipios_sp\", pattern=[\"CPFL\", \"EDP\", \"Elektro\", \"Eletropaulo\", \"Energisa\"]), normalize=fixed(False), show=fixed(False))\n",
    "display(df)"
   ]
  },
  {
   "cell_type": "code",
   "execution_count": 20,
   "id": "3516b1f5",
   "metadata": {},
   "outputs": [],
   "source": [
    "def predict_aols(utility):\n",
    "    df = get_all_data_utility(utility)\n",
    "    df = df[[\"data\", \"Carga\"]]\n",
    "    df.rename(columns = {\"data\": \"ds\", \"Carga\": \"y\"}, inplace = True)\n",
    "    display(df)\n",
    "\n",
    "    train_percent = 0.8\n",
    "    test_percent = 0.2\n",
    "\n",
    "    train_count = floor(train_percent * len(df.index))\n",
    "    test_count = ceil(test_percent * len(df.index))\n",
    "\n",
    "    df_train, df_val = df.iloc[:train_count, :], df.iloc[train_count:, :]\n",
    "\n",
    "    x_train = df_train[\"ds\"].dt.hour.values.reshape(-1, 1)\n",
    "    x_test = df_val[\"ds\"].dt.hour.values.reshape(-1, 1)\n",
    "\n",
    "    y = df[\"y\"].values.reshape(-1, 1)\n",
    "    y_train = df_train[\"y\"].values.reshape(-1, 1)\n",
    "    y_test = df_val[\"y\"].values.reshape(-1, 1)\n",
    "\n",
    "    basis_function = Polynomial(degree=1)\n",
    "\n",
    "    sysidentpy_AOLS = AOLS(\n",
    "        basis_function=basis_function\n",
    "    )\n",
    "    sysidentpy_AOLS.fit(X=x_train, y=y_train)\n",
    "\n",
    "    x_test = np.concatenate([x_train[-sysidentpy_AOLS.max_lag:], x_test])\n",
    "    y_test = np.concatenate([y_train[-sysidentpy_AOLS.max_lag:], y_test])\n",
    "\n",
    "    yhat = sysidentpy_AOLS.predict(X=x_test, y=y_test, steps_ahead=1)\n",
    "    aols_loss = loss(pd.Series(y_test.flatten()[sysidentpy_AOLS.max_lag:]), pd.Series(yhat.flatten()[sysidentpy_AOLS.max_lag:]))\n",
    "\n",
    "    n_points = 500\n",
    "    plot_results(y=y_test[-n_points:], yhat=yhat[-n_points:], n=n_points, figsize=(18, 8))"
   ]
  },
  {
   "cell_type": "code",
   "execution_count": 21,
   "id": "a286c15c",
   "metadata": {},
   "outputs": [
    {
     "data": {
      "application/vnd.jupyter.widget-view+json": {
       "model_id": "fb2854ebbcb74e56ae6166ebc1cf9864",
       "version_major": 2,
       "version_minor": 0
      },
      "text/plain": [
       "interactive(children=(Dropdown(description='utility', options=('CPFL Paulista', 'CPFL Piratininga', 'CPFL Sant…"
      ]
     },
     "metadata": {},
     "output_type": "display_data"
    }
   ],
   "source": [
    "df = interactive(predict_aols, utility=get_data_list(\"distribuidoras_municipios_sp\", pattern=[\"CPFL\", \"EDP\", \"Elektro\", \"Eletropaulo\", \"Energisa\"]), normalize=fixed(False), show=fixed(False))\n",
    "display(df)"
   ]
  },
  {
   "cell_type": "code",
   "execution_count": 24,
   "id": "2e40a7e4",
   "metadata": {},
   "outputs": [],
   "source": [
    "def predict_neuralprophet(utility):\n",
    "    set_random_seed(1)\n",
    "\n",
    "    df = get_all_data_utility(utility)\n",
    "    df = df[[\"data\", \"Carga\"]]\n",
    "    df.rename(columns = {\"data\": \"ds\", \"Carga\": \"y\"}, inplace = True)\n",
    "    display(df)\n",
    "\n",
    "    m = NeuralProphet(\n",
    "        n_lags=10,\n",
    "        n_forecasts=1,\n",
    "        num_hidden_layers=2,\n",
    "        d_hidden=30,\n",
    "        learning_rate=0.004\n",
    "    )\n",
    "\n",
    "    metrics = m.fit(df, freq=\"H\")\n",
    "\n",
    "    df_train, df_val = m.split_df(df, valid_p=0.15)\n",
    "\n",
    "    m.test(df_val)\n",
    "\n",
    "    future = m.make_future_dataframe(df_val, n_historic_predictions=True)\n",
    "    forecast = m.predict(future)\n",
    "\n",
    "    plt.figure(figsize=(18, 8))\n",
    "    plt.plot(forecast[\"y\"][-1000:], \"ro-\")\n",
    "    plt.plot(forecast[\"yhat1\"][-1000:], \"k*-\")"
   ]
  },
  {
   "cell_type": "code",
   "execution_count": 25,
   "id": "7ffee4dd",
   "metadata": {},
   "outputs": [
    {
     "data": {
      "application/vnd.jupyter.widget-view+json": {
       "model_id": "dbd992b7114c4d42b619b511ca44fed0",
       "version_major": 2,
       "version_minor": 0
      },
      "text/plain": [
       "interactive(children=(Dropdown(description='utility', options=('CPFL Paulista', 'CPFL Piratininga', 'CPFL Sant…"
      ]
     },
     "metadata": {},
     "output_type": "display_data"
    }
   ],
   "source": [
    "df = interactive(predict_neuralprophet, utility=get_data_list(\"distribuidoras_municipios_sp\", pattern=[\"CPFL\", \"EDP\", \"Elektro\", \"Eletropaulo\", \"Energisa\"]), normalize=fixed(False), show=fixed(False))\n",
    "display(df)"
   ]
  },
  {
   "cell_type": "code",
   "execution_count": null,
   "id": "bc360953",
   "metadata": {},
   "outputs": [],
   "source": [
    "def predict_multiprophet(utility):\n",
    "    set_random_seed(1)\n",
    "\n",
    "    df = get_all_data_utility(utility)\n",
    "    df = df[[\"data\", \"Carga\"]]\n",
    "    df.rename(columns = {\"data\": \"ds\", \"Carga\": \"y\"}, inplace = True)\n",
    "    display(df)\n",
    "\n",
    "    m = NeuralProphet(\n",
    "        n_lags=10,\n",
    "        n_forecasts=1,\n",
    "        num_hidden_layers=2,\n",
    "        d_hidden=30,\n",
    "        learning_rate=0.004\n",
    "    )\n",
    "\n",
    "    metrics = m.fit(df, freq=\"H\")\n",
    "\n",
    "    df_train, df_val = m.split_df(df, valid_p=0.15)\n",
    "\n",
    "    m.test(df_val)\n",
    "\n",
    "    future = m.make_future_dataframe(df_val, n_historic_predictions=True)\n",
    "    forecast = m.predict(future)\n",
    "\n",
    "    plt.figure(figsize=(18, 8))\n",
    "    plt.plot(forecast[\"y\"][-1000:], \"ro-\")\n",
    "    plt.plot(forecast[\"yhat1\"][-1000:], \"k*-\")"
   ]
  },
  {
   "cell_type": "code",
   "execution_count": null,
   "id": "c20bade2",
   "metadata": {},
   "outputs": [],
   "source": [
    "df = interactive(predict_multiprophet, utility=get_data_list(\"distribuidoras_municipios_sp\", pattern=[\"CPFL\", \"EDP\", \"Elektro\", \"Eletropaulo\", \"Energisa\"]), normalize=fixed(False), show=fixed(False))\n",
    "display(df)"
   ]
  }
 ],
 "metadata": {
  "kernelspec": {
   "display_name": "Python 3 (ipykernel)",
   "language": "python",
   "name": "python3"
  },
  "language_info": {
   "codemirror_mode": {
    "name": "ipython",
    "version": 3
   },
   "file_extension": ".py",
   "mimetype": "text/x-python",
   "name": "python",
   "nbconvert_exporter": "python",
   "pygments_lexer": "ipython3",
   "version": "3.8.10"
  }
 },
 "nbformat": 4,
 "nbformat_minor": 5
}
