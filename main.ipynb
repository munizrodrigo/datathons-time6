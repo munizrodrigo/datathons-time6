{
 "cells": [
  {
   "cell_type": "code",
   "execution_count": 1,
   "id": "f3694d08-e0a0-41c0-a523-5e29869a5fda",
   "metadata": {},
   "outputs": [],
   "source": [
    "import pandas as pd\n",
    "import numpy as np\n",
    "import scipy as sp\n",
    "import requests\n",
    "import re\n",
    "import plotly.express as px\n",
    "from ipywidgets import interactive\n",
    "from IPython.display import display, IFrame\n",
    "from bs4 import BeautifulSoup\n",
    "from pathlib import Path\n",
    "from io import StringIO"
   ]
  },
  {
   "cell_type": "code",
   "execution_count": 2,
   "id": "51ac27a0",
   "metadata": {},
   "outputs": [],
   "source": [
    "# Show many outputs from a cell\n",
    "from IPython.core.interactiveshell import InteractiveShell\n",
    "InteractiveShell.ast_node_interactivity = \"all\""
   ]
  },
  {
   "cell_type": "code",
   "execution_count": 3,
   "id": "a755991f",
   "metadata": {},
   "outputs": [],
   "source": [
    "def get_data_list(data_folder, extension=False):\n",
    "    github_url = f\"https://github.com/munizrodrigo/datathons-time6-dados/tree/main/{data_folder}\"\n",
    "    result = requests.get(github_url)\n",
    "\n",
    "    soup = BeautifulSoup(result.text, \"html.parser\")\n",
    "    csvfiles = soup.find_all(title=re.compile(\"\\.csv$\"))\n",
    "    xlsxfiles = soup.find_all(title=re.compile(\"\\.xlsx$\"))\n",
    "\n",
    "    filename = []\n",
    "    for file in csvfiles + xlsxfiles:\n",
    "        name = file.extract().get_text()\n",
    "        name = Path(name).resolve().stem\n",
    "        filename.append(name)\n",
    "    \n",
    "    return filename"
   ]
  },
  {
   "cell_type": "code",
   "execution_count": 4,
   "id": "06fa2fe8",
   "metadata": {},
   "outputs": [],
   "source": [
    "def get_temperature(city):\n",
    "    github_url = f\"https://raw.githubusercontent.com/munizrodrigo/datathons-time6-dados/main/temperatura_sp/{city}.csv\"\n",
    "    github_url = github_url.replace(\" \", \"%20\")\n",
    "    result = requests.get(github_url)\n",
    "    csv_string = StringIO(result.text)\n",
    "    temperature_df = pd.read_csv(csv_string, delimiter=\";\")\n",
    "    temperature_df[\"din_medicao\"] = pd.to_datetime(temperature_df[\"din_medicao\"])\n",
    "    temperature_df = temperature_df[temperature_df[\"id_varmeteo\"] == \"TEM_MAX\"]\n",
    "    temperature_df = temperature_df[[\"din_medicao\", \"val_medicao\"]]\n",
    "    temperature_df = temperature_df[temperature_df[\"val_medicao\"].notnull()]\n",
    "    temperature_df = temperature_df.sort_values(by=\"din_medicao\")\n",
    "    temperature_fig = px.line(temperature_df, x='din_medicao', y=\"val_medicao\")\n",
    "    display(temperature_df)\n",
    "    display(temperature_fig)"
   ]
  },
  {
   "cell_type": "code",
   "execution_count": 6,
   "id": "e25e5350-a252-4ecf-b49e-14c36a35cb63",
   "metadata": {},
   "outputs": [
    {
     "data": {
      "application/vnd.jupyter.widget-view+json": {
       "model_id": "7da0e7ef2fa3434d97aebb7e6b9b0224",
       "version_major": 2,
       "version_minor": 0
      },
      "text/plain": [
       "interactive(children=(Dropdown(description='city', options=('Ariranha', 'Avare', 'Barra Bonita', 'Barra do Tur…"
      ]
     },
     "metadata": {},
     "output_type": "display_data"
    }
   ],
   "source": [
    "city_temperature = interactive(get_temperature, city=get_data_list(\"temperatura_sp\"))\n",
    "\n",
    "display(city_temperature)"
   ]
  },
  {
   "cell_type": "code",
   "execution_count": 7,
   "id": "44e1accd",
   "metadata": {},
   "outputs": [],
   "source": [
    "def get_meteorology(city, variable):\n",
    "    github_url = f\"https://raw.githubusercontent.com/munizrodrigo/datathons-time6-dados/main/meteorologia_sp/{city}.csv\"\n",
    "    github_url = github_url.replace(\" \", \"%20\")\n",
    "    result = requests.get(github_url)\n",
    "    csv_string = StringIO(result.text)\n",
    "    meteorology_df = pd.read_csv(csv_string, delimiter=\";\")\n",
    "    meteorology_df[\"Hora Medicao\"] = meteorology_df[\"Hora Medicao\"] / 100\n",
    "    meteorology_df[\"Hora Medicao\"] = meteorology_df[\"Data Medicao\"].astype(str) + \" \" + meteorology_df[\"Hora Medicao\"].astype(int).astype(str) + \":00:00\"\n",
    "    meteorology_df[\"Hora Medicao\"] = pd.to_datetime(meteorology_df[\"Hora Medicao\"])\n",
    "    meteorology_df = meteorology_df[[\"Hora Medicao\", \"PRECIPITACAO TOTAL, HORARIO(mm)\", \"UMIDADE REL. MAX. NA HORA ANT. (AUT)(%)\", \"VENTO, VELOCIDADE HORARIA(m/s)\"]]\n",
    "    meteorology_df = meteorology_df[meteorology_df[\"PRECIPITACAO TOTAL, HORARIO(mm)\"].notnull()]\n",
    "    meteorology_df = meteorology_df[meteorology_df[\"UMIDADE REL. MAX. NA HORA ANT. (AUT)(%)\"].notnull()]\n",
    "    meteorology_df = meteorology_df[meteorology_df[\"VENTO, VELOCIDADE HORARIA(m/s)\"].notnull()]\n",
    "    meteorology_df = meteorology_df.sort_values(by=\"Hora Medicao\")\n",
    "    variable_map = {\n",
    "        \"Precipitacao Total\": \"PRECIPITACAO TOTAL, HORARIO(mm)\",\n",
    "        \"Umidade Relativa\": \"UMIDADE REL. MAX. NA HORA ANT. (AUT)(%)\",\n",
    "        \"Velocidade do Vento\": \"VENTO, VELOCIDADE HORARIA(m/s)\"\n",
    "    }\n",
    "    variable_name = variable_map[variable]\n",
    "    meteorology_df = meteorology_df[[\"Hora Medicao\", variable_name]]\n",
    "    meteorology_fig = px.line(meteorology_df, x=\"Hora Medicao\", y=variable_name)\n",
    "    display(meteorology_df)\n",
    "    display(meteorology_fig)"
   ]
  },
  {
   "cell_type": "code",
   "execution_count": 8,
   "id": "737f9ac6",
   "metadata": {},
   "outputs": [
    {
     "data": {
      "application/vnd.jupyter.widget-view+json": {
       "model_id": "3cdb9942fc9c4c4182edbd9cb332259e",
       "version_major": 2,
       "version_minor": 0
      },
      "text/plain": [
       "interactive(children=(Dropdown(description='city', options=('Ariranha', 'Avare', 'Barra Bonita', 'Barra do Tur…"
      ]
     },
     "metadata": {},
     "output_type": "display_data"
    }
   ],
   "source": [
    "city_meteorology = interactive(get_meteorology, city=get_data_list(\"meteorologia_sp\"), variable=[\"Precipitacao Total\", \"Umidade Relativa\", \"Velocidade do Vento\"])\n",
    "\n",
    "display(city_meteorology)"
   ]
  },
  {
   "cell_type": "code",
   "execution_count": 19,
   "id": "ba248a88",
   "metadata": {},
   "outputs": [],
   "source": [
    "def get_load(utility):\n",
    "    github_url = f\"https://raw.githubusercontent.com/munizrodrigo/datathons-time6-dados/main/carga_sp/{utility}.xlsx\"\n",
    "    github_url = github_url.replace(\" \", \"%20\")\n",
    "    load_df = pd.read_excel(github_url)\n",
    "    load_df[\"din_ocorrencia\"] = pd.to_datetime(load_df[\"din_ocorrencia\"])\n",
    "    load_df = load_df[[\"din_ocorrencia\", \"val_itemserieoriginal\"]]\n",
    "    load_df = load_df[load_df[\"val_itemserieoriginal\"].notnull()]\n",
    "    load_df = load_df.sort_values(by=\"din_ocorrencia\")\n",
    "    load_fig = px.line(load_df, x=\"din_ocorrencia\", y=\"val_itemserieoriginal\")\n",
    "    display(load_df)\n",
    "    display(load_fig)"
   ]
  },
  {
   "cell_type": "code",
   "execution_count": 20,
   "id": "b68b32c3",
   "metadata": {},
   "outputs": [
    {
     "data": {
      "application/vnd.jupyter.widget-view+json": {
       "model_id": "839ce14974c74caa801821b4d7978de7",
       "version_major": 2,
       "version_minor": 0
      },
      "text/plain": [
       "interactive(children=(Dropdown(description='utility', options=('cpfl-paulista', 'cpfl-piratininga', 'cpfl-stac…"
      ]
     },
     "metadata": {},
     "output_type": "display_data"
    }
   ],
   "source": [
    "utility_load = interactive(get_load, utility=get_data_list(\"carga_sp\"))\n",
    "\n",
    "display(utility_load)"
   ]
  },
  {
   "cell_type": "code",
   "execution_count": 22,
   "id": "1a69de38",
   "metadata": {},
   "outputs": [
    {
     "data": {
      "text/html": [
       "\n",
       "        <iframe\n",
       "            width=\"900\"\n",
       "            height=\"650\"\n",
       "            src=\"https://www.google.com/maps/d/embed?mid=1kPQFq3OwYmW0bN-WeRcOi97vUW0ARPI&ehbc=2E312F\"\n",
       "            frameborder=\"0\"\n",
       "            allowfullscreen\n",
       "            \n",
       "        ></iframe>\n",
       "        "
      ],
      "text/plain": [
       "<IPython.lib.display.IFrame at 0x22a283180a0>"
      ]
     },
     "execution_count": 22,
     "metadata": {},
     "output_type": "execute_result"
    }
   ],
   "source": [
    "map_url = \"https://www.google.com/maps/d/embed?mid=1kPQFq3OwYmW0bN-WeRcOi97vUW0ARPI&ehbc=2E312F\"\n",
    "IFrame(map_url, width=900, height=650)"
   ]
  },
  {
   "cell_type": "code",
   "execution_count": null,
   "id": "13483589",
   "metadata": {},
   "outputs": [],
   "source": []
  }
 ],
 "metadata": {
  "kernelspec": {
   "display_name": "Python 3 (ipykernel)",
   "language": "python",
   "name": "python3"
  },
  "language_info": {
   "codemirror_mode": {
    "name": "ipython",
    "version": 3
   },
   "file_extension": ".py",
   "mimetype": "text/x-python",
   "name": "python",
   "nbconvert_exporter": "python",
   "pygments_lexer": "ipython3",
   "version": "3.8.10"
  }
 },
 "nbformat": 4,
 "nbformat_minor": 5
}
