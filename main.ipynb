{
 "cells": [
  {
   "cell_type": "code",
   "execution_count": 1,
   "id": "f3694d08-e0a0-41c0-a523-5e29869a5fda",
   "metadata": {},
   "outputs": [],
   "source": [
    "import pandas as pd\n",
    "import numpy as np\n",
    "import scipy as sp\n",
    "import requests\n",
    "import re\n",
    "import plotly.express as px\n",
    "from ipywidgets import interactive\n",
    "from IPython.display import display\n",
    "from bs4 import BeautifulSoup\n",
    "from pathlib import Path\n",
    "from io import StringIO"
   ]
  },
  {
   "cell_type": "code",
   "execution_count": 2,
   "id": "51ac27a0",
   "metadata": {},
   "outputs": [],
   "source": [
    "# Show many outputs from a cell\n",
    "from IPython.core.interactiveshell import InteractiveShell\n",
    "InteractiveShell.ast_node_interactivity = \"all\""
   ]
  },
  {
   "cell_type": "code",
   "execution_count": 3,
   "id": "42afae74",
   "metadata": {},
   "outputs": [],
   "source": [
    "def get_data_list(data_folder, extension=False):\n",
    "    github_url = f\"https://github.com/munizrodrigo/datathons-time6-dados/tree/main/{data_folder}\"\n",
    "    result = requests.get(github_url)\n",
    "\n",
    "    soup = BeautifulSoup(result.text, \"html.parser\")\n",
    "    csvfiles = soup.find_all(title=re.compile(\"\\.csv$\"))\n",
    "    xlsxfiles = soup.find_all(title=re.compile(\"\\.xlsx$\"))\n",
    "\n",
    "    filename = []\n",
    "    for file in csvfiles + xlsxfiles:\n",
    "        name = file.extract().get_text()\n",
    "        name = Path(name).resolve().stem\n",
    "        filename.append(name)\n",
    "    \n",
    "    return filename"
   ]
  },
  {
   "cell_type": "code",
   "execution_count": 4,
   "id": "8d673fea",
   "metadata": {},
   "outputs": [],
   "source": [
    "def get_temperature(city):\n",
    "    github_url = f\"https://raw.githubusercontent.com/munizrodrigo/datathons-time6-dados/main/temperatura_sp/{city}.csv\"\n",
    "    github_url = github_url.replace(\" \", \"%20\")\n",
    "    result = requests.get(github_url)\n",
    "    csv_string = StringIO(result.text)\n",
    "    temperature_df = pd.read_csv(csv_string, delimiter=\";\", encoding='cp1252')\n",
    "    temperature_df[\"din_medicao\"] = pd.to_datetime(temperature_df[\"din_medicao\"])\n",
    "    temperature_df = temperature_df[temperature_df[\"id_varmeteo\"] == \"TEM_MAX\"]\n",
    "    temperature_df = temperature_df[[\"din_medicao\", \"val_medicao\"]]\n",
    "    temperature_df = temperature_df[temperature_df[\"val_medicao\"].notnull()]\n",
    "    temperature_df = temperature_df.sort_values(by=\"din_medicao\")\n",
    "    temperature_fig = px.line(temperature_df, x='din_medicao', y=\"val_medicao\")\n",
    "    display(temperature_df)\n",
    "    display(temperature_fig)"
   ]
  },
  {
   "cell_type": "code",
   "execution_count": 5,
   "id": "e25e5350-a252-4ecf-b49e-14c36a35cb63",
   "metadata": {},
   "outputs": [
    {
     "data": {
      "application/vnd.jupyter.widget-view+json": {
       "model_id": "1c498b4a67bc4160a0c2ed71f1837c7b",
       "version_major": 2,
       "version_minor": 0
      },
      "text/plain": [
       "interactive(children=(Dropdown(description='city', options=('Ariranha', 'Avare', 'Barra Bonita', 'Barra do Tur…"
      ]
     },
     "metadata": {},
     "output_type": "display_data"
    }
   ],
   "source": [
    "city_temperature = interactive(get_temperature, city=get_data_list(\"temperatura_sp\"))\n",
    "\n",
    "display(city_temperature)"
   ]
  },
  {
   "cell_type": "code",
   "execution_count": null,
   "id": "44e1accd",
   "metadata": {},
   "outputs": [],
   "source": []
  }
 ],
 "metadata": {
  "kernelspec": {
   "display_name": "Python 3 (ipykernel)",
   "language": "python",
   "name": "python3"
  },
  "language_info": {
   "codemirror_mode": {
    "name": "ipython",
    "version": 3
   },
   "file_extension": ".py",
   "mimetype": "text/x-python",
   "name": "python",
   "nbconvert_exporter": "python",
   "pygments_lexer": "ipython3",
   "version": "3.8.10"
  }
 },
 "nbformat": 4,
 "nbformat_minor": 5
}
